{
 "cells": [
  {
   "cell_type": "code",
   "execution_count": null,
   "metadata": {
    "_cell_guid": "b1076dfc-b9ad-4769-8c92-a6c4dae69d19",
    "_uuid": "8f2839f25d086af736a60e9eeb907d3b93b6e0e5"
   },
   "outputs": [],
   "source": [
    "# This Python 3 environment comes with many helpful analytics libraries installed\n",
    "# It is defined by the kaggle/python Docker image: https://github.com/kaggle/docker-python\n",
    "# For example, here's several helpful packages to load\n",
    "\n",
    "import numpy as np # linear algebra\n",
    "import pandas as pd # data processing, CSV file I/O (e.g. pd.read_csv)\n",
    "\n",
    "# Input data files are available in the read-only \"../input/\" directory\n",
    "# For example, running this (by clicking run or pressing Shift+Enter) will list all files under the input directory\n",
    "\n",
    "import os\n",
    "for dirname, _, filenames in os.walk('/kaggle/input'):\n",
    "    for filename in filenames:\n",
    "        print(os.path.join(dirname, filename))\n",
    "\n",
    "# You can write up to 20GB to the current directory (/kaggle/working/) that gets preserved as output when you create a version using \"Save & Run All\" \n",
    "# You can also write temporary files to /kaggle/temp/, but they won't be saved outside of the current session"
   ]
  },
  {
   "cell_type": "code",
   "execution_count": 1,
   "metadata": {
    "execution": {
     "iopub.execute_input": "2022-07-30T04:29:29.997517Z",
     "iopub.status.busy": "2022-07-30T04:29:29.997183Z",
     "iopub.status.idle": "2022-07-30T04:29:35.153623Z",
     "shell.execute_reply": "2022-07-30T04:29:35.151898Z",
     "shell.execute_reply.started": "2022-07-30T04:29:29.997436Z"
    }
   },
   "outputs": [],
   "source": [
    "import keras\n",
    "import tensorflow as tf\n",
    "from tensorflow import keras\n",
    "import numpy as np\n",
    "keras.__version__"
   ]
  },
  {
   "cell_type": "code",
   "execution_count": 2,
   "metadata": {
    "execution": {
     "iopub.execute_input": "2022-07-30T04:29:40.065355Z",
     "iopub.status.busy": "2022-07-30T04:29:40.064989Z",
     "iopub.status.idle": "2022-07-30T04:29:40.072884Z",
     "shell.execute_reply": "2022-07-30T04:29:40.071926Z",
     "shell.execute_reply.started": "2022-07-30T04:29:40.065322Z"
    }
   },
   "outputs": [],
   "source": [
    "import os ,shutil\n",
    "print (os.getcwd())\n",
    "path='../input/melanoma-and-benign-images-only/DermMel'\n",
    "orginal_dataset_dir=path\n",
    "print(path)"
   ]
  },
  {
   "cell_type": "code",
   "execution_count": 3,
   "metadata": {
    "execution": {
     "iopub.execute_input": "2022-07-30T04:30:21.093612Z",
     "iopub.status.busy": "2022-07-30T04:30:21.093247Z",
     "iopub.status.idle": "2022-07-30T04:30:21.297065Z",
     "shell.execute_reply": "2022-07-30T04:30:21.296115Z",
     "shell.execute_reply.started": "2022-07-30T04:30:21.093579Z"
    }
   },
   "outputs": [],
   "source": [
    "tf.config.experimental.list_physical_devices()\n"
   ]
  },
  {
   "cell_type": "code",
   "execution_count": 4,
   "metadata": {
    "execution": {
     "iopub.execute_input": "2022-07-30T04:31:08.884750Z",
     "iopub.status.busy": "2022-07-30T04:31:08.884391Z",
     "iopub.status.idle": "2022-07-30T04:31:08.890264Z",
     "shell.execute_reply": "2022-07-30T04:31:08.889448Z",
     "shell.execute_reply.started": "2022-07-30T04:31:08.884708Z"
    }
   },
   "outputs": [],
   "source": [
    "tf.__version__"
   ]
  },
  {
   "cell_type": "code",
   "execution_count": 5,
   "metadata": {
    "execution": {
     "iopub.execute_input": "2022-07-30T04:31:22.205780Z",
     "iopub.status.busy": "2022-07-30T04:31:22.205344Z",
     "iopub.status.idle": "2022-07-30T04:31:22.212013Z",
     "shell.execute_reply": "2022-07-30T04:31:22.210967Z",
     "shell.execute_reply.started": "2022-07-30T04:31:22.205735Z"
    }
   },
   "outputs": [],
   "source": [
    "tf.test.is_built_with_cuda()\n"
   ]
  },
  {
   "cell_type": "code",
   "execution_count": 6,
   "metadata": {
    "execution": {
     "iopub.execute_input": "2022-07-30T04:31:33.358974Z",
     "iopub.status.busy": "2022-07-30T04:31:33.358610Z",
     "iopub.status.idle": "2022-07-30T04:31:33.377211Z",
     "shell.execute_reply": "2022-07-30T04:31:33.376414Z",
     "shell.execute_reply.started": "2022-07-30T04:31:33.358938Z"
    }
   },
   "outputs": [],
   "source": [
    "base_dir=os.path.join(os.getcwd(),'../input/melanoma-and-benign-images-only/DermMel')\n",
    "print(base_dir)\n",
    "\n",
    "if(not(os.path.exists(base_dir))):\n",
    "    os.mkdir(base_dir)\n",
    "else:\n",
    "    print('prepared alraedy exists')\n",
    "    \n",
    "    \n",
    "train_dir=os.path.join(base_dir,'train')   \n",
    "if(not(os.path.exists(base_dir))):\n",
    "    os.mkdir(train_dir)\n",
    "else:\n",
    "    print('Train_Dir alraedy exists')\n",
    "    \n",
    "test_dir=os.path.join(base_dir,'test')\n",
    "if(not(os.path.exists(test_dir,))):   \n",
    "    os.mkdir(test_dir)\n",
    "else:\n",
    "    print('Test_Dir alraedy exists')\n",
    "validation_dir=os.path.join(base_dir,'validation')\n",
    "if(not(os.path.exists(validation_dir))):\n",
    "    os.mkdir(validation_dir)\n",
    "else:\n",
    "    print('validation dir already exists')"
   ]
  },
  {
   "cell_type": "code",
   "execution_count": 7,
   "metadata": {
    "execution": {
     "iopub.execute_input": "2022-07-30T04:31:42.838017Z",
     "iopub.status.busy": "2022-07-30T04:31:42.837645Z",
     "iopub.status.idle": "2022-07-30T04:31:42.853538Z",
     "shell.execute_reply": "2022-07-30T04:31:42.852617Z",
     "shell.execute_reply.started": "2022-07-30T04:31:42.837983Z"
    }
   },
   "outputs": [],
   "source": [
    "train_classes=os.listdir(train_dir)\n",
    "print(\"train_class:\",train_classes)\n",
    "test_classes=os.listdir(test_dir)\n",
    "print(\"test_classes:\",test_classes)\n",
    "validation_classes=os.listdir(validation_dir)\n",
    "print('validation :',validation_classes)"
   ]
  },
  {
   "cell_type": "code",
   "execution_count": 9,
   "metadata": {
    "execution": {
     "iopub.execute_input": "2022-07-30T04:35:13.706022Z",
     "iopub.status.busy": "2022-07-30T04:35:13.705635Z",
     "iopub.status.idle": "2022-07-30T04:35:13.724063Z",
     "shell.execute_reply": "2022-07-30T04:35:13.723017Z",
     "shell.execute_reply.started": "2022-07-30T04:35:13.705988Z"
    }
   },
   "outputs": [],
   "source": [
    "from tensorflow.keras.optimizers import Adam\n",
    "# opt = keras.optimizers.Adam(learning_rate=0.001)\n",
    "# model.compile(loss='categorical_crossentropy', optimizer='adam', metrics=['accuracy'])\n",
    "model.compile(loss='binary_crossentropy',optimizer='adam', \n",
    "              metrics=['acc'])"
   ]
  },
  {
   "cell_type": "code",
   "execution_count": 13,
   "metadata": {
    "execution": {
     "iopub.execute_input": "2022-07-30T04:47:48.647168Z",
     "iopub.status.busy": "2022-07-30T04:47:48.646739Z",
     "iopub.status.idle": "2022-07-30T04:47:48.662433Z",
     "shell.execute_reply": "2022-07-30T04:47:48.661600Z",
     "shell.execute_reply.started": "2022-07-30T04:47:48.647135Z"
    }
   },
   "outputs": [],
   "source": [
    "print(path)\n",
    "\n",
    "dst_dataset_dir_classes=os.listdir('../input/melanoma-and-benign-images-only/DermMel')\n",
    "print(path)\n",
    "dst_dataset_train_dir=os.path.join(path,'train')\n",
    "print(dst_dataset_train_dir)\n",
    "\n",
    "dst_dataset_test_dir=os.path.join(path,'test')\n",
    "print(dst_dataset_test_dir)\n",
    "\n",
    "dst_dataset_validation_dir=os.path.join(path,'validation')\n",
    "print(dst_dataset_validation_dir)\n",
    "\n",
    "\n",
    "\n",
    "list_train_classes=os.listdir('../input/melanoma-and-benign-images-only/DermMel/train')\n",
    "print(\"dst train_class:\",list_train_classes)\n",
    "\n",
    "list_test_classes=os.listdir('../input/melanoma-and-benign-images-only/DermMel/test')\n",
    "print(\"dst test_classes:\",list_test_classes)\n",
    "\n",
    "list_validation_classes=os.listdir('../input/melanoma-and-benign-images-only/DermMel/validation')\n",
    "print('dst validation :',list_validation_classes)\n",
    "\n"
   ]
  },
  {
   "cell_type": "code",
   "execution_count": 79,
   "metadata": {
    "execution": {
     "iopub.execute_input": "2022-07-30T06:11:37.561403Z",
     "iopub.status.busy": "2022-07-30T06:11:37.561041Z",
     "iopub.status.idle": "2022-07-30T06:11:37.568932Z",
     "shell.execute_reply": "2022-07-30T06:11:37.567692Z",
     "shell.execute_reply.started": "2022-07-30T06:11:37.561371Z"
    }
   },
   "outputs": [],
   "source": [
    "from keras import layers\n",
    "from keras import models\n",
    "from keras import optimizers\n",
    "\n",
    "# def get_model():\n",
    "#     model = models.Sequential([\n",
    "#     model.add(layers.Conv2D(256, (3, 3), activation='relu',input_shape(224,224,3)))\n",
    "#     model.add(layers.Dense(3000, activation='relu'))\n",
    "#     model.add(layers.Dense(1000, activation='relu'))\n",
    "#     model.add(layers.Dense(1, activation='sigmoid'))]\n",
    "        \n",
    "def get_model():\n",
    "    model = keras.Sequential([\n",
    "            keras.layers.Flatten(input_shape=(224,224,3)),\n",
    "            keras.layers.Dense(3000, activation='relu'),\n",
    "            keras.layers.Dense(1000, activation='relu'),\n",
    "            keras.layers.Dense(1, activation='sigmoid')]) \n",
    "    \n",
    "    model.compile(optimizer='SGD',loss='binary_crossentropy',metrics=['accuracy'])\n",
    "    return model\n",
    "        \n",
    "    model.summary()"
   ]
  },
  {
   "cell_type": "code",
   "execution_count": 80,
   "metadata": {
    "execution": {
     "iopub.execute_input": "2022-07-30T06:11:38.593332Z",
     "iopub.status.busy": "2022-07-30T06:11:38.592976Z",
     "iopub.status.idle": "2022-07-30T06:11:38.599148Z",
     "shell.execute_reply": "2022-07-30T06:11:38.598120Z",
     "shell.execute_reply.started": "2022-07-30T06:11:38.593295Z"
    }
   },
   "outputs": [],
   "source": [
    "train_tf_dataset = tf.data.Dataset.from_tensor_slices((list_train_classes))\n",
    "test_tf_dataset = tf.data.Dataset.from_tensor_slices((list_test_classes))"
   ]
  },
  {
   "cell_type": "code",
   "execution_count": 81,
   "metadata": {
    "execution": {
     "iopub.execute_input": "2022-07-30T06:11:39.351165Z",
     "iopub.status.busy": "2022-07-30T06:11:39.350721Z",
     "iopub.status.idle": "2022-07-30T06:11:39.358366Z",
     "shell.execute_reply": "2022-07-30T06:11:39.357365Z",
     "shell.execute_reply.started": "2022-07-30T06:11:39.351126Z"
    }
   },
   "outputs": [],
   "source": [
    "strategy = tf.distribute.MirroredStrategy()\n"
   ]
  },
  {
   "cell_type": "code",
   "execution_count": 82,
   "metadata": {
    "execution": {
     "iopub.execute_input": "2022-07-30T06:11:40.045717Z",
     "iopub.status.busy": "2022-07-30T06:11:40.045363Z",
     "iopub.status.idle": "2022-07-30T06:11:40.052353Z",
     "shell.execute_reply": "2022-07-30T06:11:40.051295Z",
     "shell.execute_reply.started": "2022-07-30T06:11:40.045682Z"
    }
   },
   "outputs": [],
   "source": [
    "strategy.num_replicas_in_sync\n"
   ]
  },
  {
   "cell_type": "code",
   "execution_count": 83,
   "metadata": {
    "execution": {
     "iopub.execute_input": "2022-07-30T06:11:41.062973Z",
     "iopub.status.busy": "2022-07-30T06:11:41.062611Z",
     "iopub.status.idle": "2022-07-30T06:11:44.317491Z",
     "shell.execute_reply": "2022-07-30T06:11:44.316562Z",
     "shell.execute_reply.started": "2022-07-30T06:11:41.062938Z"
    }
   },
   "outputs": [],
   "source": [
    "from keras.preprocessing.image import ImageDataGenerator\n",
    "\n",
    "train_datagen=ImageDataGenerator(rescale=1./255)\n",
    "test_datagen = ImageDataGenerator(rescale=1./255)\n",
    "validation_datagen=ImageDataGenerator(rescale=1./255)\n",
    "\n",
    "train_generator=train_datagen.flow_from_directory(\n",
    "        dst_dataset_train_dir,\n",
    "            target_size=(224,224),\n",
    "            batch_size=20,\n",
    "        class_mode='binary')\n",
    "\n",
    "validation_generator = validation_datagen.flow_from_directory(\n",
    "        dst_dataset_validation_dir,\n",
    "        target_size=(224, 224),\n",
    "        batch_size=20,\n",
    "        class_mode='binary')\n",
    "\n",
    "testing_generator = test_datagen.flow_from_directory(\n",
    "        dst_dataset_test_dir,\n",
    "        target_size=(224, 224),\n",
    "        batch_size=20,\n",
    "        class_mode='binary')"
   ]
  },
  {
   "cell_type": "code",
   "execution_count": 84,
   "metadata": {
    "execution": {
     "iopub.execute_input": "2022-07-30T06:11:44.319280Z",
     "iopub.status.busy": "2022-07-30T06:11:44.318962Z",
     "iopub.status.idle": "2022-07-30T06:11:44.325962Z",
     "shell.execute_reply": "2022-07-30T06:11:44.325134Z",
     "shell.execute_reply.started": "2022-07-30T06:11:44.319247Z"
    }
   },
   "outputs": [],
   "source": [
    "BATCH_SIZE_PER_REPLICA = 250\n",
    "BATCH_SIZE = BATCH_SIZE_PER_REPLICA * strategy.num_replicas_in_sync\n",
    "\n",
    "\n",
    "train_dataset = train_tf_dataset.batch(BATCH_SIZE).prefetch(tf.data.AUTOTUNE)\n",
    "test_dataset = test_tf_dataset.batch(BATCH_SIZE)"
   ]
  },
  {
   "cell_type": "code",
   "execution_count": 85,
   "metadata": {
    "execution": {
     "iopub.execute_input": "2022-07-30T06:11:46.661390Z",
     "iopub.status.busy": "2022-07-30T06:11:46.661037Z",
     "iopub.status.idle": "2022-07-30T06:39:28.859592Z",
     "shell.execute_reply": "2022-07-30T06:39:28.858738Z",
     "shell.execute_reply.started": "2022-07-30T06:11:46.661358Z"
    }
   },
   "outputs": [],
   "source": [
    "from PIL import ImageFile\n",
    "# ImageFile.LOAD_TRUNCATED_IMAGES = True\n",
    "\n",
    "# model.compile('adam','binary_crossentropy',metrics=['acc'])\n",
    "# history = model.fit_generator(\n",
    "#       train_generator,\n",
    "#       steps_per_epoch=100,\n",
    "#       epochs=50,\n",
    "#       validation_data=validation_generator,\n",
    "#       validation_steps=100)\n",
    "with strategy.scope():\n",
    "    gpu_model = get_model()\n",
    "    history=gpu_model.fit_generator(train_generator,\n",
    "                  steps_per_epoch=100,\n",
    "                  epochs=50,\n",
    "                  validation_data=validation_generator,\n",
    "                 validation_steps=100)\n"
   ]
  },
  {
   "cell_type": "code",
   "execution_count": null,
   "metadata": {},
   "outputs": [],
   "source": []
  },
  {
   "cell_type": "code",
   "execution_count": 91,
   "metadata": {
    "execution": {
     "iopub.execute_input": "2022-07-30T06:40:53.857316Z",
     "iopub.status.busy": "2022-07-30T06:40:53.856927Z",
     "iopub.status.idle": "2022-07-30T06:40:54.197858Z",
     "shell.execute_reply": "2022-07-30T06:40:54.197017Z",
     "shell.execute_reply.started": "2022-07-30T06:40:53.857281Z"
    }
   },
   "outputs": [],
   "source": [
    "import matplotlib.pyplot as plt\n",
    "\n",
    "acc=history.history['accuracy']\n",
    "val_acc=history.history['val_accuracy']\n",
    "loss=history.history[\"loss\"]\n",
    "val_loss=history.history['val_loss']\n",
    "epochs=range(len(acc))\n",
    "plt.plot(epochs,acc,'bo',label='Training acc')\n",
    "plt.plot(epochs,val_acc,label='Validation acc')\n",
    "plt.title('Training and validation accuracy')\n",
    "plt.legend()        \n",
    "plt.figure()\n",
    "plt.plot(epochs,loss,'bo',label='Training loss')\n",
    "plt.plot(epochs,val_loss,label='Validation loss')\n",
    "plt.title('Training and validation loss')\n",
    "plt.legend()         \n",
    "plt.figure()\n",
    "plt.show()"
   ]
  },
  {
   "cell_type": "code",
   "execution_count": null,
   "metadata": {},
   "outputs": [],
   "source": []
  }
 ],
 "metadata": {
  "kernelspec": {
   "display_name": "Python 3 (ipykernel)",
   "language": "python",
   "name": "python3"
  },
  "language_info": {
   "codemirror_mode": {
    "name": "ipython",
    "version": 3
   },
   "file_extension": ".py",
   "mimetype": "text/x-python",
   "name": "python",
   "nbconvert_exporter": "python",
   "pygments_lexer": "ipython3",
   "version": "3.7.3"
  }
 },
 "nbformat": 4,
 "nbformat_minor": 4
}
